{
  "nbformat": 4,
  "nbformat_minor": 0,
  "metadata": {
    "colab": {
      "provenance": [],
      "authorship_tag": "ABX9TyOd6fLM155VAKDwm7qIvz+z",
      "include_colab_link": true
    },
    "kernelspec": {
      "name": "python3",
      "display_name": "Python 3"
    },
    "language_info": {
      "name": "python"
    }
  },
  "cells": [
    {
      "cell_type": "markdown",
      "metadata": {
        "id": "view-in-github",
        "colab_type": "text"
      },
      "source": [
        "<a href=\"https://colab.research.google.com/github/ljvillarrealm/DataEngineeringBootcamp202206/blob/main/QWERTY/JuPYnotebook.ipynb\" target=\"_parent\"><img src=\"https://colab.research.google.com/assets/colab-badge.svg\" alt=\"Open In Colab\"/></a>"
      ]
    },
    {
      "cell_type": "markdown",
      "source": [
        "# NEW JuPY notebook with colab"
      ],
      "metadata": {
        "id": "Om4i-MVELVcg"
      }
    },
    {
      "cell_type": "code",
      "execution_count": 2,
      "metadata": {
        "id": "KVf8IedpLUAb"
      },
      "outputs": [],
      "source": [
        "x = 2 ** 3"
      ]
    },
    {
      "cell_type": "code",
      "source": [
        "print(f\"x = {x}\")"
      ],
      "metadata": {
        "colab": {
          "base_uri": "https://localhost:8080/"
        },
        "id": "zin9AOoELjTI",
        "outputId": "5e0cbab7-81ad-444a-9c36-80562477ceaa"
      },
      "execution_count": 3,
      "outputs": [
        {
          "output_type": "stream",
          "name": "stdout",
          "text": [
            "x = 8\n"
          ]
        }
      ]
    }
  ]
}